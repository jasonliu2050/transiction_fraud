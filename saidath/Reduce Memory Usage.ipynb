{
 "cells": [
  {
   "cell_type": "code",
   "execution_count": 1,
   "metadata": {},
   "outputs": [],
   "source": [
    "#Used libraries\n",
    "import numpy as np   # import numpy\n",
    "import pandas as pd  # import pandas\n",
    "import os\n",
    "import gc   # for garbage collection\n",
    "import seaborn as sns  # data visualization lib\n",
    "import matplotlib.pyplot as plt\n",
    "import glob \n",
    "%matplotlib inline"
   ]
  },
  {
   "cell_type": "code",
   "execution_count": 2,
   "metadata": {},
   "outputs": [],
   "source": [
    "#Transaction and Identity train\n",
    "\n",
    "train_transc = pd.read_csv('/Users/TygaBRii/Downloads/ML/train_transaction.csv')\n",
    "\n",
    "train_idn = pd.read_csv('/Users/TygaBRii/Downloads/ML/train_identity.csv')\n"
   ]
  },
  {
   "cell_type": "code",
   "execution_count": 3,
   "metadata": {},
   "outputs": [
    {
     "name": "stdout",
     "output_type": "stream",
     "text": [
      "Memory usage of train_transc is 1.733547 GB\n",
      "Memory usage of train_idn is 45.116951 MB\n"
     ]
    }
   ],
   "source": [
    "#MEMORY BEFORE ANY CHANGES\n",
    "mem_use = train_transc.memory_usage().sum() / 1024**3 \n",
    "print('Memory usage of train_transc is {:.6f} GB'.format(mem_use))\n",
    "mem_use = train_idn.memory_usage().sum() / 1024**2 \n",
    "print('Memory usage of train_idn is {:.6f} MB'.format(mem_use))"
   ]
  },
  {
   "cell_type": "code",
   "execution_count": 4,
   "metadata": {},
   "outputs": [
    {
     "name": "stdout",
     "output_type": "stream",
     "text": [
      "<class 'pandas.core.frame.DataFrame'>\n",
      "RangeIndex: 590540 entries, 0 to 590539\n",
      "Columns: 394 entries, TransactionID to V339\n",
      "dtypes: float64(376), int64(4), object(14)\n",
      "memory usage: 1.7+ GB\n",
      "None\n",
      "<class 'pandas.core.frame.DataFrame'>\n",
      "RangeIndex: 144233 entries, 0 to 144232\n",
      "Data columns (total 41 columns):\n",
      "TransactionID    144233 non-null int64\n",
      "id_01            144233 non-null float64\n",
      "id_02            140872 non-null float64\n",
      "id_03            66324 non-null float64\n",
      "id_04            66324 non-null float64\n",
      "id_05            136865 non-null float64\n",
      "id_06            136865 non-null float64\n",
      "id_07            5155 non-null float64\n",
      "id_08            5155 non-null float64\n",
      "id_09            74926 non-null float64\n",
      "id_10            74926 non-null float64\n",
      "id_11            140978 non-null float64\n",
      "id_12            144233 non-null object\n",
      "id_13            127320 non-null float64\n",
      "id_14            80044 non-null float64\n",
      "id_15            140985 non-null object\n",
      "id_16            129340 non-null object\n",
      "id_17            139369 non-null float64\n",
      "id_18            45113 non-null float64\n",
      "id_19            139318 non-null float64\n",
      "id_20            139261 non-null float64\n",
      "id_21            5159 non-null float64\n",
      "id_22            5169 non-null float64\n",
      "id_23            5169 non-null object\n",
      "id_24            4747 non-null float64\n",
      "id_25            5132 non-null float64\n",
      "id_26            5163 non-null float64\n",
      "id_27            5169 non-null object\n",
      "id_28            140978 non-null object\n",
      "id_29            140978 non-null object\n",
      "id_30            77565 non-null object\n",
      "id_31            140282 non-null object\n",
      "id_32            77586 non-null float64\n",
      "id_33            73289 non-null object\n",
      "id_34            77805 non-null object\n",
      "id_35            140985 non-null object\n",
      "id_36            140985 non-null object\n",
      "id_37            140985 non-null object\n",
      "id_38            140985 non-null object\n",
      "DeviceType       140810 non-null object\n",
      "DeviceInfo       118666 non-null object\n",
      "dtypes: float64(23), int64(1), object(17)\n",
      "memory usage: 45.1+ MB\n",
      "None\n"
     ]
    }
   ],
   "source": [
    "#Datatypes before changes: \n",
    "print(train_transc.info())\n",
    "print(train_idn.info())"
   ]
  },
  {
   "cell_type": "code",
   "execution_count": null,
   "metadata": {},
   "outputs": [],
   "source": []
  },
  {
   "cell_type": "code",
   "execution_count": 5,
   "metadata": {},
   "outputs": [],
   "source": [
    "#Float range\n",
    "f64_max = 1.7976931348623157e+308\n",
    "f64_min =  -1.7976931348623157e+308\n",
    "\n",
    "f32_max = 3.4028235e+38\n",
    "f32_min = -3.4028235e+38\n",
    "\n",
    "f16_max = 65500.0\n",
    "f16_min = -65500.0\n",
    "\n",
    "#Integer range\n",
    "i64_max = 9223372036854775807\n",
    "i64_min =  -9223372036854775808\n",
    "\n",
    "i32_max =  2147483647\n",
    "i32_min = -2147483648\n",
    "\n",
    "i16_max = 32767\n",
    "i16_min = -32768\n",
    "        \n",
    "        "
   ]
  },
  {
   "cell_type": "code",
   "execution_count": 6,
   "metadata": {},
   "outputs": [],
   "source": [
    "#Funtion to reduce datatype\n",
    "def change_dtype(train):\n",
    "    for m in train.columns:\n",
    "        #When it is an integer:\n",
    "        if str(train[m].dtype) == 'int64':\n",
    "            #Min & Max value of all columns with integer datatype\n",
    "            train[m].max()\n",
    "            train[m].min()\n",
    "            if train[m].max() < i16_max and train[m].min() > i16_min :\n",
    "                #convert column into int16\n",
    "                train[m] = train[m].astype(np.int16)\n",
    "            else:\n",
    "                if train[m].max() < i32_max and train[m].min() > i32_min :\n",
    "                    #convert column into int32\n",
    "                    train[m] = train[m].astype(np.int32)\n",
    "                else:\n",
    "                    if train[m].max() < i64_max and train[m].min() > i64_min :\n",
    "                        #convert column into int64\n",
    "                        train[m] = train[m].astype(np.int64)\n",
    "        \n",
    "    for m in train.columns:\n",
    "        #When it is a float:\n",
    "        if str(train[m].dtype) == 'float64':\n",
    "            #Min & Max value of all columns with float datatype\n",
    "            train[m].max()\n",
    "            train[m].min()\n",
    "            if train[m].max() < f16_max and train[m].min() > f16_min :\n",
    "                #convert column into float16\n",
    "                train[m] = train[m].astype(np.float16)\n",
    "            else:\n",
    "                if train[m].max() < f32_max and train[m].min() > f32_min :\n",
    "                    #convert column into float32\n",
    "                    train[m] = train[m].astype(np.float32)\n",
    "                else:\n",
    "                    if train[m].max() < f64_max and train[m].min() > f64_min :\n",
    "                        #convert column into float64\n",
    "                        train[m] = train[m].astype(np.float64)\n",
    "                    \n",
    "                    \n",
    "                    "
   ]
  },
  {
   "cell_type": "code",
   "execution_count": 7,
   "metadata": {},
   "outputs": [],
   "source": [
    "change_dtype(train_transc)\n",
    "change_dtype(train_idn)"
   ]
  },
  {
   "cell_type": "code",
   "execution_count": null,
   "metadata": {},
   "outputs": [],
   "source": []
  },
  {
   "cell_type": "code",
   "execution_count": 8,
   "metadata": {},
   "outputs": [
    {
     "name": "stdout",
     "output_type": "stream",
     "text": [
      "Memory usage of train_transc is 0.530184 GB\n",
      "Memory usage of train_idn is 25.859768 MB\n"
     ]
    }
   ],
   "source": [
    "#MEMORY AFTER CHANGES\n",
    "mem_use = train_transc.memory_usage().sum() / 1024**3 \n",
    "print('Memory usage of train_transc is {:.6f} GB'.format(mem_use))\n",
    "mem_use = train_idn.memory_usage().sum() / 1024**2 \n",
    "print('Memory usage of train_idn is {:.6f} MB'.format(mem_use))"
   ]
  },
  {
   "cell_type": "code",
   "execution_count": 9,
   "metadata": {},
   "outputs": [
    {
     "name": "stdout",
     "output_type": "stream",
     "text": [
      "<class 'pandas.core.frame.DataFrame'>\n",
      "RangeIndex: 590540 entries, 0 to 590539\n",
      "Columns: 394 entries, TransactionID to V339\n",
      "dtypes: float16(332), float32(44), int16(2), int32(2), object(14)\n",
      "memory usage: 542.9+ MB\n",
      "None\n",
      "<class 'pandas.core.frame.DataFrame'>\n",
      "RangeIndex: 144233 entries, 0 to 144232\n",
      "Data columns (total 41 columns):\n",
      "TransactionID    144233 non-null int32\n",
      "id_01            144233 non-null float16\n",
      "id_02            140872 non-null float32\n",
      "id_03            66324 non-null float16\n",
      "id_04            66324 non-null float16\n",
      "id_05            136865 non-null float16\n",
      "id_06            136865 non-null float16\n",
      "id_07            5155 non-null float16\n",
      "id_08            5155 non-null float16\n",
      "id_09            74926 non-null float16\n",
      "id_10            74926 non-null float16\n",
      "id_11            140978 non-null float16\n",
      "id_12            144233 non-null object\n",
      "id_13            127320 non-null float16\n",
      "id_14            80044 non-null float16\n",
      "id_15            140985 non-null object\n",
      "id_16            129340 non-null object\n",
      "id_17            139369 non-null float16\n",
      "id_18            45113 non-null float16\n",
      "id_19            139318 non-null float16\n",
      "id_20            139261 non-null float16\n",
      "id_21            5159 non-null float16\n",
      "id_22            5169 non-null float16\n",
      "id_23            5169 non-null object\n",
      "id_24            4747 non-null float16\n",
      "id_25            5132 non-null float16\n",
      "id_26            5163 non-null float16\n",
      "id_27            5169 non-null object\n",
      "id_28            140978 non-null object\n",
      "id_29            140978 non-null object\n",
      "id_30            77565 non-null object\n",
      "id_31            140282 non-null object\n",
      "id_32            77586 non-null float16\n",
      "id_33            73289 non-null object\n",
      "id_34            77805 non-null object\n",
      "id_35            140985 non-null object\n",
      "id_36            140985 non-null object\n",
      "id_37            140985 non-null object\n",
      "id_38            140985 non-null object\n",
      "DeviceType       140810 non-null object\n",
      "DeviceInfo       118666 non-null object\n",
      "dtypes: float16(22), float32(1), int32(1), object(17)\n",
      "memory usage: 25.9+ MB\n",
      "None\n"
     ]
    }
   ],
   "source": [
    "#Datatypes after changes: \n",
    "print(train_transc.info())\n",
    "print(train_idn.info())"
   ]
  },
  {
   "cell_type": "code",
   "execution_count": null,
   "metadata": {},
   "outputs": [],
   "source": []
  }
 ],
 "metadata": {
  "kernelspec": {
   "display_name": "Python 3",
   "language": "python",
   "name": "python3"
  },
  "language_info": {
   "codemirror_mode": {
    "name": "ipython",
    "version": 3
   },
   "file_extension": ".py",
   "mimetype": "text/x-python",
   "name": "python",
   "nbconvert_exporter": "python",
   "pygments_lexer": "ipython3",
   "version": "3.7.4"
  }
 },
 "nbformat": 4,
 "nbformat_minor": 2
}
