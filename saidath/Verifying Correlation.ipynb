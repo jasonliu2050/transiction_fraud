{
 "cells": [
  {
   "cell_type": "code",
   "execution_count": 1,
   "metadata": {},
   "outputs": [],
   "source": [
    "import pandas as pd\n",
    "import numpy as np\n",
    "import matplotlib.pyplot as plt\n",
    "import seaborn as sns\n",
    "\n",
    "%matplotlib inline\n",
    "\n",
    "import warnings\n",
    "warnings.filterwarnings('ignore')"
   ]
  },
  {
   "cell_type": "code",
   "execution_count": 2,
   "metadata": {},
   "outputs": [
    {
     "name": "stdout",
     "output_type": "stream",
     "text": [
      "/Users/TygaBRii/Downloads/ML/train_transaction.csv \n",
      " /Users/TygaBRii/Downloads/ML/train_identity.csv\n"
     ]
    }
   ],
   "source": [
    "#Getting the file path\n",
    "DATA_PATH = '/Users/TygaBRii/Downloads/ML/'\n",
    "file_transc = DATA_PATH+'train_transaction.csv'\n",
    "file_idn = DATA_PATH+'train_identity.csv'\n",
    "print(file_transc,'\\n', file_idn)"
   ]
  },
  {
   "cell_type": "code",
   "execution_count": null,
   "metadata": {},
   "outputs": [],
   "source": []
  },
  {
   "cell_type": "code",
   "execution_count": 24,
   "metadata": {},
   "outputs": [
    {
     "name": "stdout",
     "output_type": "stream",
     "text": [
      "(590540, 394)\n"
     ]
    }
   ],
   "source": [
    "#TRANSACTION TABLE\n",
    "train_txn = pd.read_csv(file_transc)\n",
    "print(train_txn.shape)\n"
   ]
  },
  {
   "cell_type": "code",
   "execution_count": 25,
   "metadata": {},
   "outputs": [
    {
     "name": "stdout",
     "output_type": "stream",
     "text": [
      "(144233, 41)\n"
     ]
    }
   ],
   "source": [
    "#IDENTITY TABLE\n",
    "train_idn = pd.read_csv(file_idn)\n",
    "print(train_idn.shape)\n"
   ]
  },
  {
   "cell_type": "code",
   "execution_count": null,
   "metadata": {},
   "outputs": [],
   "source": []
  },
  {
   "cell_type": "code",
   "execution_count": 5,
   "metadata": {},
   "outputs": [],
   "source": [
    "def get_nan_dic(df):\n",
    "    \"\"\"\n",
    "    get NaN dictionary\n",
    "    return: a dictionary with #of null values as key and feature names as value\n",
    "    \"\"\"\n",
    "    nulls = df.isna()\n",
    "    nan_dic = {}\n",
    "    for f in df.columns:\n",
    "        c=nulls[f].sum()\n",
    "        nan_dic[c]=[]\n",
    "    for f in df.columns:\n",
    "        c = nulls[f].sum()\n",
    "        nan_dic[c].append(f)\n",
    "    return nan_dic"
   ]
  },
  {
   "cell_type": "code",
   "execution_count": 6,
   "metadata": {},
   "outputs": [],
   "source": [
    "nan_dic = get_nan_dic(train_txn)"
   ]
  },
  {
   "cell_type": "code",
   "execution_count": 7,
   "metadata": {},
   "outputs": [
    {
     "name": "stdout",
     "output_type": "stream",
     "text": [
      "{0: ['TransactionID', 'isFraud', 'TransactionDT', 'TransactionAmt', 'ProductCD', 'card1', 'C1', 'C2', 'C3', 'C4', 'C5', 'C6', 'C7', 'C8', 'C9', 'C10', 'C11', 'C12', 'C13', 'C14'], 8933: ['card2'], 1565: ['card3'], 1577: ['card4'], 4259: ['card5'], 1571: ['card6'], 65706: ['addr1', 'addr2'], 352271: ['dist1'], 552913: ['dist2'], 94456: ['P_emaildomain'], 453249: ['R_emaildomain'], 1269: ['D1', 'V281', 'V282', 'V283', 'V288', 'V289', 'V296', 'V300', 'V301', 'V313', 'V314', 'V315'], 280797: ['D2'], 262878: ['D3'], 168922: ['D4'], 309841: ['D5'], 517353: ['D6'], 551623: ['D7'], 515614: ['D8', 'D9'], 76022: ['D10'], 279287: ['D11', 'V1', 'V2', 'V3', 'V4', 'V5', 'V6', 'V7', 'V8', 'V9', 'V10', 'V11'], 525823: ['D12'], 528588: ['D13'], 528353: ['D14'], 89113: ['D15'], 271100: ['M1', 'M2', 'M3'], 281444: ['M4'], 350482: ['M5'], 169360: ['M6'], 346265: ['M7'], 346252: ['M8', 'M9'], 76073: ['V12', 'V13', 'V14', 'V15', 'V16', 'V17', 'V18', 'V19', 'V20', 'V21', 'V22', 'V23', 'V24', 'V25', 'V26', 'V27', 'V28', 'V29', 'V30', 'V31', 'V32', 'V33', 'V34'], 168969: ['V35', 'V36', 'V37', 'V38', 'V39', 'V40', 'V41', 'V42', 'V43', 'V44', 'V45', 'V46', 'V47', 'V48', 'V49', 'V50', 'V51', 'V52'], 77096: ['V53', 'V54', 'V55', 'V56', 'V57', 'V58', 'V59', 'V60', 'V61', 'V62', 'V63', 'V64', 'V65', 'V66', 'V67', 'V68', 'V69', 'V70', 'V71', 'V72', 'V73', 'V74'], 89164: ['V75', 'V76', 'V77', 'V78', 'V79', 'V80', 'V81', 'V82', 'V83', 'V84', 'V85', 'V86', 'V87', 'V88', 'V89', 'V90', 'V91', 'V92', 'V93', 'V94'], 314: ['V95', 'V96', 'V97', 'V98', 'V99', 'V100', 'V101', 'V102', 'V103', 'V104', 'V105', 'V106', 'V107', 'V108', 'V109', 'V110', 'V111', 'V112', 'V113', 'V114', 'V115', 'V116', 'V117', 'V118', 'V119', 'V120', 'V121', 'V122', 'V123', 'V124', 'V125', 'V126', 'V127', 'V128', 'V129', 'V130', 'V131', 'V132', 'V133', 'V134', 'V135', 'V136', 'V137'], 508595: ['V138', 'V139', 'V140', 'V141', 'V142', 'V146', 'V147', 'V148', 'V149', 'V153', 'V154', 'V155', 'V156', 'V157', 'V158', 'V161', 'V162', 'V163'], 508589: ['V143', 'V144', 'V145', 'V150', 'V151', 'V152', 'V159', 'V160', 'V164', 'V165', 'V166'], 450909: ['V167', 'V168', 'V172', 'V173', 'V176', 'V177', 'V178', 'V179', 'V181', 'V182', 'V183', 'V186', 'V187', 'V190', 'V191', 'V192', 'V193', 'V196', 'V199', 'V202', 'V203', 'V204', 'V205', 'V206', 'V207', 'V211', 'V212', 'V213', 'V214', 'V215', 'V216'], 450721: ['V169', 'V170', 'V171', 'V174', 'V175', 'V180', 'V184', 'V185', 'V188', 'V189', 'V194', 'V195', 'V197', 'V198', 'V200', 'V201', 'V208', 'V209', 'V210'], 460110: ['V217', 'V218', 'V219', 'V223', 'V224', 'V225', 'V226', 'V228', 'V229', 'V230', 'V231', 'V232', 'V233', 'V235', 'V236', 'V237', 'V240', 'V241', 'V242', 'V243', 'V244', 'V246', 'V247', 'V248', 'V249', 'V252', 'V253', 'V254', 'V257', 'V258', 'V260', 'V261', 'V262', 'V263', 'V264', 'V265', 'V266', 'V267', 'V268', 'V269', 'V273', 'V274', 'V275', 'V276', 'V277', 'V278'], 449124: ['V220', 'V221', 'V222', 'V227', 'V234', 'V238', 'V239', 'V245', 'V250', 'V251', 'V255', 'V256', 'V259', 'V270', 'V271', 'V272'], 12: ['V279', 'V280', 'V284', 'V285', 'V286', 'V287', 'V290', 'V291', 'V292', 'V293', 'V294', 'V295', 'V297', 'V298', 'V299', 'V302', 'V303', 'V304', 'V305', 'V306', 'V307', 'V308', 'V309', 'V310', 'V311', 'V312', 'V316', 'V317', 'V318', 'V319', 'V320', 'V321'], 508189: ['V322', 'V323', 'V324', 'V325', 'V326', 'V327', 'V328', 'V329', 'V330', 'V331', 'V332', 'V333', 'V334', 'V335', 'V336', 'V337', 'V338', 'V339']}\n"
     ]
    }
   ],
   "source": [
    "print(nan_dic)"
   ]
  },
  {
   "cell_type": "code",
   "execution_count": 8,
   "metadata": {},
   "outputs": [
    {
     "name": "stdout",
     "output_type": "stream",
     "text": [
      "0\n",
      "8933\n",
      "1565\n",
      "1577\n",
      "4259\n",
      "1571\n",
      "65706\n",
      "352271\n",
      "552913\n",
      "94456\n",
      "453249\n",
      "1269\n",
      "280797\n",
      "262878\n",
      "168922\n",
      "309841\n",
      "517353\n",
      "551623\n",
      "515614\n",
      "76022\n",
      "279287\n",
      "525823\n",
      "528588\n",
      "528353\n",
      "89113\n",
      "271100\n",
      "281444\n",
      "350482\n",
      "169360\n",
      "346265\n",
      "346252\n",
      "76073\n",
      "168969\n",
      "77096\n",
      "89164\n",
      "314\n",
      "508595\n",
      "508589\n",
      "450909\n",
      "450721\n",
      "460110\n",
      "449124\n",
      "12\n",
      "508189\n"
     ]
    }
   ],
   "source": [
    "for key, value in nan_dic.items() :\n",
    "    print(key)"
   ]
  },
  {
   "cell_type": "code",
   "execution_count": 9,
   "metadata": {},
   "outputs": [],
   "source": [
    "#To plot correlation matrix as heatmap\n",
    "def plot_corr(df,cols):\n",
    "    fig = plt.figure(figsize=(12,8))\n",
    "    sns.heatmap(df[cols].corr(),cmap='RdBu_r', annot=True, center=0.0)\n",
    "    plt.show() "
   ]
  },
  {
   "cell_type": "code",
   "execution_count": 10,
   "metadata": {},
   "outputs": [
    {
     "data": {
      "text/plain": [
       "['D11', 'V1', 'V2', 'V3', 'V4', 'V5', 'V6', 'V7', 'V8', 'V9', 'V10', 'V11']"
      ]
     },
     "execution_count": 10,
     "metadata": {},
     "output_type": "execute_result"
    }
   ],
   "source": [
    "Vs = nan_dic[279287]\n",
    "Vs\n"
   ]
  },
  {
   "cell_type": "code",
   "execution_count": 11,
   "metadata": {},
   "outputs": [
    {
     "data": {
      "image/png": "[encoded data removed]",
      "text/plain": [
       "<Figure size 864x576 with 2 Axes>"
      ]
     },
     "metadata": {
      "needs_background": "light"
     },
     "output_type": "display_data"
    }
   ],
   "source": [
    "plot_corr(train_txn,Vs)"
   ]
  },
  {
   "cell_type": "code",
   "execution_count": 12,
   "metadata": {},
   "outputs": [
    {
     "data": {
      "text/plain": [
       "['D12', 'D13', 'D14', 'D15']"
      ]
     },
     "execution_count": 12,
     "metadata": {},
     "output_type": "execute_result"
    }
   ],
   "source": [
    "Vs = nan_dic[525823] + nan_dic[528588] + nan_dic[528353] + nan_dic[89113] \n",
    "Vs    "
   ]
  },
  {
   "cell_type": "code",
   "execution_count": 13,
   "metadata": {},
   "outputs": [
    {
     "data": {
      "image/png": "[encoded data removed]",
      "text/plain": [
       "<Figure size 864x576 with 2 Axes>"
      ]
     },
     "metadata": {
      "needs_background": "light"
     },
     "output_type": "display_data"
    }
   ],
   "source": [
    "plot_corr(train_txn,Vs)"
   ]
  },
  {
   "cell_type": "markdown",
   "metadata": {},
   "source": [
    "Columns M1 to M7 are object type column and cannot be plotted using the heatmap or using direct correlation\n",
    "\n",
    "nan_dic[271100, 281444, 350482, 169360, 346265]\n",
    "\n",
    "The object categories have to be converted to numerical values"
   ]
  },
  {
   "cell_type": "code",
   "execution_count": 14,
   "metadata": {},
   "outputs": [],
   "source": [
    "##Label Encoder"
   ]
  },
  {
   "cell_type": "code",
   "execution_count": 15,
   "metadata": {},
   "outputs": [],
   "source": [
    "from sklearn.preprocessing import LabelEncoder"
   ]
  },
  {
   "cell_type": "code",
   "execution_count": 16,
   "metadata": {},
   "outputs": [],
   "source": [
    "def transfer_cat_2_int(train_df):\n",
    "    print(\"Start transfer categorical values to integer ...\")\n",
    "    category_columns = train_df.select_dtypes(include=['category', object]).columns\n",
    "    for f in category_columns:\n",
    "        train_df[f] = train_df[f].astype(str)\n",
    "        le = LabelEncoder()\n",
    "        train_df[f] = le.fit_transform(train_df[f])"
   ]
  },
  {
   "cell_type": "code",
   "execution_count": 17,
   "metadata": {},
   "outputs": [
    {
     "name": "stdout",
     "output_type": "stream",
     "text": [
      "Start transfer categorical values to integer ...\n"
     ]
    }
   ],
   "source": [
    "transfer_cat_2_int(train_txn)"
   ]
  },
  {
   "cell_type": "code",
   "execution_count": 18,
   "metadata": {},
   "outputs": [
    {
     "data": {
      "text/plain": [
       "['M1', 'M2', 'M3', 'M4', 'M5', 'M6', 'M7']"
      ]
     },
     "execution_count": 18,
     "metadata": {},
     "output_type": "execute_result"
    }
   ],
   "source": [
    "Vs = nan_dic[271100] + nan_dic[281444] + nan_dic[350482] + nan_dic[169360] + nan_dic[346265]\n",
    "Vs"
   ]
  },
  {
   "cell_type": "code",
   "execution_count": 19,
   "metadata": {},
   "outputs": [
    {
     "data": {
      "image/png": "[encoded data removed]",
      "text/plain": [
       "<Figure size 864x576 with 2 Axes>"
      ]
     },
     "metadata": {
      "needs_background": "light"
     },
     "output_type": "display_data"
    }
   ],
   "source": [
    "plot_corr(train_txn,Vs)"
   ]
  },
  {
   "cell_type": "code",
   "execution_count": null,
   "metadata": {},
   "outputs": [],
   "source": []
  },
  {
   "cell_type": "code",
   "execution_count": 22,
   "metadata": {},
   "outputs": [
    {
     "name": "stdout",
     "output_type": "stream",
     "text": [
      "TransactionID 0.014165772702318346\n",
      "isFraud 1.0\n",
      "TransactionDT 0.013103054993050102\n",
      "TransactionAmt 0.011319825333215114\n",
      "ProductCD -0.15655631946488938\n",
      "card1 -0.013639969873036532\n",
      "card2 0.00338787917827069\n",
      "card3 0.15415133308432816\n",
      "card4 -0.003297580284695842\n",
      "card5 -0.03357955581230888\n",
      "card6 -0.09776012890324368\n",
      "addr1 0.005595762757557442\n",
      "addr2 -0.030387147315389045\n",
      "dist1 0.021522161350320996\n",
      "dist2 -0.019053623292596276\n",
      "P_emaildomain -0.024056029210028647\n",
      "R_emaildomain -0.08575999063419688\n",
      "C1 0.030569759651240487\n",
      "C2 0.03722893953099915\n",
      "C3 -0.0068331738266534485\n",
      "C4 0.030382136305078175\n",
      "C5 -0.030753966713252524\n",
      "C6 0.020908983553784347\n",
      "C7 0.028160291640635673\n",
      "C8 0.032138713158292614\n",
      "C9 -0.03170341586419452\n",
      "C10 0.028395987456790495\n",
      "C11 0.027483734598875872\n",
      "C12 0.03190528171122539\n",
      "C13 -0.011145752229048518\n",
      "C14 0.007920558690608027\n",
      "D1 -0.06719305903571009\n",
      "D2 -0.08358321970827125\n",
      "D3 -0.04627138134885123\n",
      "D4 -0.0672163025595118\n",
      "D5 -0.06463762954147721\n",
      "D6 -0.05723557903343871\n",
      "D7 -0.12719850708196506\n",
      "D8 -0.14263641015850026\n",
      "D9 -0.044252539211029174\n",
      "D10 -0.07200190861826179\n",
      "D11 -0.045093941935084904\n",
      "D12 -0.028863827846510978\n",
      "D13 -0.05943039213973748\n",
      "D14 -0.008662575551178837\n",
      "D15 -0.07751940067231518\n",
      "M1 0.08941809957741083\n",
      "M2 0.07481928969655925\n",
      "M3 0.07042301073566207\n",
      "M4 -0.033158143907964545\n",
      "M5 0.02179423825730081\n",
      "M6 0.09758011200295866\n",
      "M7 0.06865954014066823\n",
      "M8 0.06183225015035045\n",
      "M9 0.05862094354308189\n",
      "V1 0.001045450310143882\n",
      "V2 0.019872176833453038\n",
      "V3 0.04925741608291105\n",
      "V4 0.01261068921718401\n",
      "V5 0.03690397255425066\n",
      "V6 0.010552477634239969\n",
      "V7 0.023492001477218426\n",
      "V8 0.01604125649876971\n",
      "V9 0.037914776281936624\n",
      "V10 -0.07465802934887279\n",
      "V11 -0.0719497304124519\n",
      "V12 -0.05240600917509208\n",
      "V13 -0.04570627083804594\n",
      "V14 0.002145403442581826\n",
      "V15 0.17796304981317546\n",
      "V16 0.17431823036773775\n",
      "V17 0.1826726226615453\n",
      "V18 0.18254989816550812\n",
      "V19 0.03090362473299966\n",
      "V20 0.040341011101483366\n",
      "V21 0.16598476139524904\n",
      "V22 0.1588144833743158\n",
      "V23 0.14940777371533198\n",
      "V24 0.1238243031733887\n",
      "V25 0.003826492963842668\n",
      "V26 0.015929046145122142\n",
      "V27 -0.0049794006356908916\n",
      "V28 -0.0048946025805188835\n",
      "V29 -0.10785177266358283\n",
      "V30 -0.10308792418959097\n",
      "V31 0.1631664822385675\n",
      "V32 0.16019713121106857\n",
      "V33 0.18348618906163192\n",
      "V34 0.18030059415433577\n",
      "V35 -0.07711565286473054\n",
      "V36 -0.06987475318173798\n",
      "V37 0.17694684591219959\n",
      "V38 0.19900451029870012\n",
      "V39 0.20309652907842896\n",
      "V40 0.2124418297830168\n",
      "V41 0.004154144923513938\n",
      "V42 0.1894282827316156\n",
      "V43 0.19827388575876811\n",
      "V44 0.2603761673461998\n",
      "V45 0.28183194637643094\n",
      "V46 0.12599085488591694\n",
      "V47 0.16411406343502516\n",
      "V48 -0.11578587857757652\n",
      "V49 -0.11092009108453534\n",
      "V50 0.1799532856660309\n",
      "V51 0.22319110216658353\n",
      "V52 0.23946916785412153\n",
      "V53 -0.04739953943952132\n",
      "V54 -0.03702524794065677\n",
      "V55 0.05011376566322604\n",
      "V56 0.06135614794276982\n",
      "V57 0.16888690850682544\n",
      "V58 0.17306531089992763\n",
      "V59 0.15106152341152726\n",
      "V60 0.1509517776374231\n",
      "V61 0.049412227637393835\n",
      "V62 0.07239883344940601\n",
      "V63 0.1533527166867013\n",
      "V64 0.15037073026785586\n",
      "V65 0.0027009818428815197\n",
      "V66 0.03763085319301276\n",
      "V67 0.07619396234756891\n",
      "V68 -0.004048085843797547\n",
      "V69 -0.10452063087877916\n",
      "V70 -0.10089993699583416\n",
      "V71 0.1568404383102941\n",
      "V72 0.1609509355736062\n",
      "V73 0.1738700646505182\n",
      "V74 0.18591509316376137\n",
      "V75 -0.0521711184010783\n",
      "V76 -0.046418882854050283\n",
      "V77 0.1583812099092198\n",
      "V78 0.15042457212509155\n",
      "V79 0.1941409444802305\n",
      "V80 0.18029947217066497\n",
      "V81 0.1823772343044487\n",
      "V82 0.05111466657017004\n",
      "V83 0.06915472593125402\n",
      "V84 0.16911015898483736\n",
      "V85 0.1688398694125067\n",
      "V86 0.2518279864239526\n",
      "V87 0.25173744221271427\n",
      "V88 0.0005535873250202278\n",
      "V89 -0.00518774184771841\n",
      "V90 -0.11016802850924881\n",
      "V91 -0.10545301705361108\n",
      "V92 0.18051313293680926\n",
      "V93 0.18098315664200393\n",
      "V94 0.18840709497742025\n",
      "V95 -0.004119681936687067\n",
      "V96 -0.005484463663540018\n",
      "V97 -0.004490564812846218\n",
      "V98 0.027317813001375757\n",
      "V99 -0.013178826745814042\n",
      "V100 0.011286225991512603\n",
      "V101 -0.004712109985836299\n",
      "V102 -0.004847621793155792\n",
      "V103 -0.005120718920326609\n",
      "V104 0.003484721076402914\n",
      "V105 -0.0032292854695566207\n",
      "V106 -0.002091194706931517\n",
      "V107 0.0025535525264306436\n",
      "V108 0.09679437359914053\n",
      "V109 0.06099400106650358\n",
      "V110 0.08162973964551995\n",
      "V111 0.12160956073760146\n",
      "V112 0.10521209993223742\n",
      "V113 0.11597582692795362\n",
      "V114 0.09608600001674403\n",
      "V115 0.05710820737635122\n",
      "V116 0.08064377871984121\n",
      "V117 0.04943855818274555\n",
      "V118 0.04060137081855574\n",
      "V119 0.048134515781807594\n",
      "V120 0.019678120763391923\n",
      "V121 0.012329530754584827\n",
      "V122 0.018712046864416725\n",
      "V123 0.13822165473301293\n",
      "V124 0.07672122015707378\n",
      "V125 0.11199901952861847\n",
      "V126 -0.003545573141569601\n",
      "V127 -0.0026286431395885716\n",
      "V128 -0.0019302533744434036\n",
      "V129 0.012730588175913342\n",
      "V130 0.0030759775320368956\n",
      "V131 0.02497467727371108\n",
      "V132 -0.004263114526567011\n",
      "V133 -0.0031653122963087622\n",
      "V134 -0.0035119018302775997\n",
      "V135 -0.0002762632980662437\n",
      "V136 -4.225181584505462e-05\n",
      "V137 -0.00011479958381914991\n",
      "V138 0.04265831478432117\n",
      "V139 0.14759400119744842\n",
      "V140 0.1969382196235421\n",
      "V141 0.0856275743817415\n",
      "V142 0.08041082180216963\n",
      "V143 -0.02976679219358924\n",
      "V144 -0.05197017105348639\n",
      "V145 -0.06196403666644706\n",
      "V146 0.19858410836535847\n",
      "V147 0.2428943745397724\n",
      "V148 0.22889104114794714\n",
      "V149 0.2732821052990537\n",
      "V150 -0.06396456514351563\n",
      "V151 -0.06086801752139526\n",
      "V152 -0.059153859315567825\n",
      "V153 0.18311384057258423\n",
      "V154 0.2069584335723\n",
      "V155 0.23419901739686866\n",
      "V156 0.2759520895145737\n",
      "V157 0.2348663695600234\n",
      "V158 0.2780662447880996\n",
      "V159 -0.06266039086816981\n",
      "V160 -0.062338297445949355\n",
      "V161 0.039805988604711816\n",
      "V162 0.05330233623360693\n",
      "V163 0.04653220466098813\n",
      "V164 -0.02744513920544513\n",
      "V165 -0.051398642534157525\n",
      "V166 -0.029435877749742375\n",
      "V167 -0.012853528116773255\n",
      "V168 -0.016021114588498756\n",
      "V169 0.06810293439986585\n",
      "V170 0.24979447724564624\n",
      "V171 0.2165084943537853\n",
      "V172 -0.013237472944738895\n",
      "V173 -0.021348518349905383\n",
      "V174 0.016204456730692176\n",
      "V175 -0.0022224537037517406\n",
      "V176 0.1643430421751803\n",
      "V177 -0.013715499925932882\n",
      "V178 -0.016543436917623364\n",
      "V179 -0.01590422088186078\n",
      "V180 -0.00933865007161915\n",
      "V181 0.02833732993890008\n",
      "V182 -0.010107615049371098\n",
      "V183 -0.0006530800985974976\n",
      "V184 0.12139441667120271\n",
      "V185 0.10924541325577179\n",
      "V186 0.14890807293138952\n",
      "V187 0.02422824534339347\n",
      "V188 0.30358227133771953\n",
      "V189 0.3082194603691243\n",
      "V190 0.2051483549916036\n",
      "V191 0.05519191286048407\n",
      "V192 0.0183435669142353\n",
      "V193 0.02206965567876807\n",
      "V194 0.14720391150912313\n",
      "V195 0.14705171587108737\n",
      "V196 0.03826621548403178\n",
      "V197 0.15398373154402767\n",
      "V198 0.13990292115480663\n",
      "V199 0.2310243115077046\n",
      "V200 0.3187825140584449\n",
      "V201 0.3280050345981545\n",
      "V202 -0.0180275095283099\n",
      "V203 -0.01994192158645736\n",
      "V204 -0.02074795618780828\n",
      "V205 -0.009895837921395353\n",
      "V206 -0.0056952511038992105\n",
      "V207 -0.012417636289724211\n",
      "V208 0.009150207922069126\n",
      "V209 -0.0188285419176767\n",
      "V210 -0.0006525308250588832\n",
      "V211 -0.01857249281589273\n",
      "V212 -0.021138141449669082\n",
      "V213 -0.02060130483959827\n",
      "V214 0.00485081241530538\n",
      "V215 -0.004800878155437744\n",
      "V216 -0.0006118973117613546\n",
      "V217 0.04578522121954008\n",
      "V218 0.047565068626694434\n",
      "V219 0.046041958932825144\n",
      "V220 0.07661637397883457\n",
      "V221 0.132545185778227\n",
      "V222 0.16638276427445328\n",
      "V223 0.0011065032954872545\n",
      "V224 0.0011508951289593387\n",
      "V225 0.007935938017775257\n",
      "V226 0.002273113307346893\n",
      "V227 0.016991919191671492\n",
      "V228 0.26886098278184184\n",
      "V229 0.13722545964943805\n",
      "V230 0.23173981248706324\n",
      "V231 0.04128936214795379\n",
      "V232 0.05460188594943608\n",
      "V233 0.0462261584650029\n",
      "V234 -0.019357644562925866\n",
      "V235 0.07619366563521325\n",
      "V236 0.03997919668887191\n",
      "V237 0.04272232327489809\n",
      "V238 0.11751178294587854\n",
      "V239 0.14139452619942366\n",
      "V240 0.0027928017313073104\n",
      "V241 0.0019884972255267983\n",
      "V242 0.360590490265958\n",
      "V243 0.21023818475957995\n",
      "V244 0.3641291589611914\n",
      "V245 0.09131969672399151\n",
      "V246 0.36687769909837276\n",
      "V247 0.1797106997798414\n",
      "V248 0.07851776676735522\n",
      "V249 0.11388722359124427\n",
      "V250 0.04521316161849111\n",
      "V251 0.0633482759307373\n",
      "V252 0.15336400048669876\n",
      "V253 0.019651836299500885\n",
      "V254 0.049900939076955614\n",
      "V255 0.03807494413447362\n",
      "V256 0.053043122689971973\n",
      "V257 0.3830597510206028\n",
      "V258 0.29715149798963714\n",
      "V259 0.15163812747111627\n",
      "V260 0.12488856705074151\n",
      "V261 0.10478494260852958\n",
      "V262 0.1503384232293406\n",
      "V263 0.014730419798002766\n",
      "V264 0.009357727899834332\n",
      "V265 0.014224070688920492\n",
      "V266 -0.005256878230003758\n",
      "V267 -0.007389816222331711\n",
      "V268 -0.005161072679026343\n",
      "V269 -0.005904486350024891\n",
      "V270 0.015683115908897483\n",
      "V271 0.02724846773531318\n",
      "V272 0.025381832704811147\n",
      "V273 0.015675660056657378\n",
      "V274 0.01551778332758315\n",
      "V275 0.017120068865326386\n",
      "V276 0.00968071049120776\n",
      "V277 0.010737611969997934\n",
      "V278 0.010039548848609428\n",
      "V279 -0.0037511494423915293\n",
      "V280 -0.0007821870848120211\n",
      "V281 0.07262721128139982\n",
      "V282 0.10412294409398651\n",
      "V283 0.11273124389390037\n",
      "V284 0.035309303035050074\n",
      "V285 -0.009127666684282849\n",
      "V286 0.004408655244828698\n",
      "V287 0.020416840379746226\n",
      "V288 0.035320207874371096\n",
      "V289 0.042629211275677814\n",
      "V290 0.04014893641753485\n",
      "V291 0.02044059791217112\n",
      "V292 0.0267785001594335\n",
      "V293 -0.004500804251332977\n",
      "V294 0.004240504340936051\n",
      "V295 -0.0016814534685521234\n",
      "V296 0.004160508556702404\n",
      "V297 0.0025295930881368517\n",
      "V298 0.00129423670070474\n",
      "V299 -0.00030766221850369923\n",
      "V300 0.02531666071227983\n",
      "V301 0.032086561883338284\n",
      "V302 0.13290347239519212\n",
      "V303 0.12428666375044142\n",
      "V304 0.13149791827621873\n",
      "V305 -0.0004955644383045788\n",
      "V306 -0.0018631493144339389\n",
      "V307 0.005948114008690784\n",
      "V308 0.003253279379157375\n",
      "V309 0.02025580729981639\n",
      "V310 0.011071035212630927\n",
      "V311 0.0013001555716180939\n",
      "V312 0.03757812613381644\n",
      "V313 0.041494252909490485\n",
      "V314 0.03853532780132012\n",
      "V315 0.04829809607725923\n",
      "V316 -0.002960280683266347\n",
      "V317 0.0050097599163735984\n",
      "V318 0.0009971344286091293\n",
      "V319 6.0759885426414275e-05\n",
      "V320 0.004960880975737558\n",
      "V321 0.0016771114354833677\n",
      "V322 -0.021540788669820104\n",
      "V323 -0.023328624944233274\n",
      "V324 -0.024006119680191357\n",
      "V325 0.007792437877404351\n",
      "V326 -0.006837540006062382\n",
      "V327 -0.0010497488677670343\n",
      "V328 -0.011053260609156953\n",
      "V329 -0.023098890065908158\n",
      "V330 -0.021163925073661962\n",
      "V331 -0.02198204890050661\n",
      "V332 -0.023468291149377277\n",
      "V333 -0.02413389637081068\n",
      "V334 -0.0004507311388801726\n",
      "V335 -0.005455958188612111\n",
      "V336 -0.002402066638591321\n",
      "V337 -0.005702428166627223\n",
      "V338 -0.019356441581314693\n",
      "V339 -0.014663379418456331\n"
     ]
    }
   ],
   "source": [
    "for column in train_txn.columns:\n",
    "    corr = train_txn['isFraud'].corr(train_txn[column])\n",
    "    print(column, corr)"
   ]
  },
  {
   "cell_type": "code",
   "execution_count": null,
   "metadata": {},
   "outputs": [],
   "source": []
  },
  {
   "cell_type": "markdown",
   "metadata": {},
   "source": [
    "CONCLUSION :\n",
    "I compared them against each other and also our target to find out which one should be dropped.\n",
    "\n",
    "For the Vs :\n",
    "Corr    - Keep - Drop\n",
    "V2 & V3 -  V3  - V2\n",
    "V4 & V5 -  V5  - V4\n",
    "V6 & V7 -  V7  - V6\n",
    "V8 & V9 -  V9  - V8\n",
    "V10& V11-  V10 - V11\n",
    "\n",
    "For the Ds :\n",
    "None of them have a high correlation so it would be safe to keep them all.\n",
    "\n",
    "For the Ms:\n",
    "Correlated  - Keep\n",
    "M1, M2 & M3 - M1 **More correlated to isFraud column\n",
    "M4 & M5     - M4\n",
    "M1 & M7     - M1 **already keeping M1\n",
    "\n",
    "\n"
   ]
  },
  {
   "cell_type": "code",
   "execution_count": null,
   "metadata": {},
   "outputs": [],
   "source": []
  }
 ],
 "metadata": {
  "kernelspec": {
   "display_name": "Python 3",
   "language": "python",
   "name": "python3"
  },
  "language_info": {
   "codemirror_mode": {
    "name": "ipython",
    "version": 3
   },
   "file_extension": ".py",
   "mimetype": "text/x-python",
   "name": "python",
   "nbconvert_exporter": "python",
   "pygments_lexer": "ipython3",
   "version": "3.7.4"
  }
 },
 "nbformat": 4,
 "nbformat_minor": 2
}
